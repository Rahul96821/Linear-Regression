{
 "cells": [
  {
   "cell_type": "markdown",
   "id": "5c73692b-5bfb-4934-aace-2df49b8610b2",
   "metadata": {},
   "source": [
    "##### Simple Linear Regression"
   ]
  },
  {
   "cell_type": "markdown",
   "id": "fb71a700-cd43-43fe-b239-ffb43adc02ad",
   "metadata": {},
   "source": [
    "In this notebook,our goal is to build and interpret a regression model to predict Sales from advertising spend on TV, Radio, and Newspaper."
   ]
  },
  {
   "cell_type": "markdown",
   "id": "0badfd7b-ed93-4e26-885c-67cccbd7d2d9",
   "metadata": {},
   "source": [
    "##### Step1: Reading and understanding the Data "
   ]
  },
  {
   "cell_type": "markdown",
   "id": "a4d0926d-e6d5-4b13-b987-db75dc485af9",
   "metadata": {},
   "source": [
    "1. Importing data using pandas library \n",
    "2. Understanding the structure of the data"
   ]
  },
  {
   "cell_type": "code",
   "execution_count": 5,
   "id": "5fc45113-06bb-48c3-844a-550b4cc9c21e",
   "metadata": {},
   "outputs": [],
   "source": [
    "# # Recommended versions\n",
    "# numpy \t1.26.4\n",
    "# pandas\t2.2.2\n",
    "# matplotlib\t3.7.1\n",
    "# seaborn\t0.10.0\n",
    "# statsmodels\t0.14.4\n",
    "# sklearn\t1.5.2"
   ]
  },
  {
   "cell_type": "code",
   "execution_count": 6,
   "id": "6e279f35-8688-4711-bafc-4daca74a6bba",
   "metadata": {},
   "outputs": [],
   "source": [
    "# Importing numpy and pandas packages\n",
    "\n",
    "import numpy as np\n",
    "import pandas as pd"
   ]
  },
  {
   "cell_type": "code",
   "execution_count": 7,
   "id": "09aeb230-4faf-4398-b16c-daae27020151",
   "metadata": {},
   "outputs": [],
   "source": [
    "# Read the csv file\n",
    "\n",
    "advertising = pd.read_csv('advertising.csv')"
   ]
  },
  {
   "cell_type": "code",
   "execution_count": 8,
   "id": "af745991-1835-49b6-9300-fc32d7533c2f",
   "metadata": {},
   "outputs": [
    {
     "data": {
      "text/html": [
       "<div>\n",
       "<style scoped>\n",
       "    .dataframe tbody tr th:only-of-type {\n",
       "        vertical-align: middle;\n",
       "    }\n",
       "\n",
       "    .dataframe tbody tr th {\n",
       "        vertical-align: top;\n",
       "    }\n",
       "\n",
       "    .dataframe thead th {\n",
       "        text-align: right;\n",
       "    }\n",
       "</style>\n",
       "<table border=\"1\" class=\"dataframe\">\n",
       "  <thead>\n",
       "    <tr style=\"text-align: right;\">\n",
       "      <th></th>\n",
       "      <th>TV</th>\n",
       "      <th>Radio</th>\n",
       "      <th>Newspaper</th>\n",
       "      <th>Sales</th>\n",
       "    </tr>\n",
       "  </thead>\n",
       "  <tbody>\n",
       "    <tr>\n",
       "      <th>0</th>\n",
       "      <td>230.1</td>\n",
       "      <td>37.8</td>\n",
       "      <td>69.2</td>\n",
       "      <td>22.1</td>\n",
       "    </tr>\n",
       "    <tr>\n",
       "      <th>1</th>\n",
       "      <td>44.5</td>\n",
       "      <td>39.3</td>\n",
       "      <td>45.1</td>\n",
       "      <td>10.4</td>\n",
       "    </tr>\n",
       "    <tr>\n",
       "      <th>2</th>\n",
       "      <td>17.2</td>\n",
       "      <td>45.9</td>\n",
       "      <td>69.3</td>\n",
       "      <td>12.0</td>\n",
       "    </tr>\n",
       "    <tr>\n",
       "      <th>3</th>\n",
       "      <td>151.5</td>\n",
       "      <td>41.3</td>\n",
       "      <td>58.5</td>\n",
       "      <td>16.5</td>\n",
       "    </tr>\n",
       "    <tr>\n",
       "      <th>4</th>\n",
       "      <td>180.8</td>\n",
       "      <td>10.8</td>\n",
       "      <td>58.4</td>\n",
       "      <td>17.9</td>\n",
       "    </tr>\n",
       "  </tbody>\n",
       "</table>\n",
       "</div>"
      ],
      "text/plain": [
       "      TV  Radio  Newspaper  Sales\n",
       "0  230.1   37.8       69.2   22.1\n",
       "1   44.5   39.3       45.1   10.4\n",
       "2   17.2   45.9       69.3   12.0\n",
       "3  151.5   41.3       58.5   16.5\n",
       "4  180.8   10.8       58.4   17.9"
      ]
     },
     "execution_count": 8,
     "metadata": {},
     "output_type": "execute_result"
    }
   ],
   "source": [
    "#Checking the head of the records\n",
    "\n",
    "advertising.head()"
   ]
  },
  {
   "cell_type": "code",
   "execution_count": 9,
   "id": "8b4cfa03-83d4-489b-b3fd-57b2f759c2e1",
   "metadata": {},
   "outputs": [],
   "source": [
    "# Let's inspect various aspect of dataframe"
   ]
  },
  {
   "cell_type": "code",
   "execution_count": 10,
   "id": "81894fd2-33c0-4d5d-a031-16107ca6bff7",
   "metadata": {},
   "outputs": [
    {
     "data": {
      "text/plain": [
       "(200, 4)"
      ]
     },
     "execution_count": 10,
     "metadata": {},
     "output_type": "execute_result"
    }
   ],
   "source": [
    "advertising.shape"
   ]
  },
  {
   "cell_type": "code",
   "execution_count": 11,
   "id": "e24768cb-60aa-4cde-aed0-43147e0a5aec",
   "metadata": {},
   "outputs": [
    {
     "name": "stdout",
     "output_type": "stream",
     "text": [
      "<class 'pandas.core.frame.DataFrame'>\n",
      "RangeIndex: 200 entries, 0 to 199\n",
      "Data columns (total 4 columns):\n",
      " #   Column     Non-Null Count  Dtype  \n",
      "---  ------     --------------  -----  \n",
      " 0   TV         200 non-null    float64\n",
      " 1   Radio      200 non-null    float64\n",
      " 2   Newspaper  200 non-null    float64\n",
      " 3   Sales      200 non-null    float64\n",
      "dtypes: float64(4)\n",
      "memory usage: 6.4 KB\n"
     ]
    }
   ],
   "source": [
    "advertising.info()"
   ]
  },
  {
   "cell_type": "code",
   "execution_count": 12,
   "id": "74829f7b-a834-45a2-a4a2-6eb2fa38e0f4",
   "metadata": {},
   "outputs": [
    {
     "data": {
      "text/html": [
       "<div>\n",
       "<style scoped>\n",
       "    .dataframe tbody tr th:only-of-type {\n",
       "        vertical-align: middle;\n",
       "    }\n",
       "\n",
       "    .dataframe tbody tr th {\n",
       "        vertical-align: top;\n",
       "    }\n",
       "\n",
       "    .dataframe thead th {\n",
       "        text-align: right;\n",
       "    }\n",
       "</style>\n",
       "<table border=\"1\" class=\"dataframe\">\n",
       "  <thead>\n",
       "    <tr style=\"text-align: right;\">\n",
       "      <th></th>\n",
       "      <th>TV</th>\n",
       "      <th>Radio</th>\n",
       "      <th>Newspaper</th>\n",
       "      <th>Sales</th>\n",
       "    </tr>\n",
       "  </thead>\n",
       "  <tbody>\n",
       "    <tr>\n",
       "      <th>count</th>\n",
       "      <td>200.000000</td>\n",
       "      <td>200.000000</td>\n",
       "      <td>200.000000</td>\n",
       "      <td>200.000000</td>\n",
       "    </tr>\n",
       "    <tr>\n",
       "      <th>mean</th>\n",
       "      <td>147.042500</td>\n",
       "      <td>23.264000</td>\n",
       "      <td>30.554000</td>\n",
       "      <td>15.130500</td>\n",
       "    </tr>\n",
       "    <tr>\n",
       "      <th>std</th>\n",
       "      <td>85.854236</td>\n",
       "      <td>14.846809</td>\n",
       "      <td>21.778621</td>\n",
       "      <td>5.283892</td>\n",
       "    </tr>\n",
       "    <tr>\n",
       "      <th>min</th>\n",
       "      <td>0.700000</td>\n",
       "      <td>0.000000</td>\n",
       "      <td>0.300000</td>\n",
       "      <td>1.600000</td>\n",
       "    </tr>\n",
       "    <tr>\n",
       "      <th>25%</th>\n",
       "      <td>74.375000</td>\n",
       "      <td>9.975000</td>\n",
       "      <td>12.750000</td>\n",
       "      <td>11.000000</td>\n",
       "    </tr>\n",
       "    <tr>\n",
       "      <th>50%</th>\n",
       "      <td>149.750000</td>\n",
       "      <td>22.900000</td>\n",
       "      <td>25.750000</td>\n",
       "      <td>16.000000</td>\n",
       "    </tr>\n",
       "    <tr>\n",
       "      <th>75%</th>\n",
       "      <td>218.825000</td>\n",
       "      <td>36.525000</td>\n",
       "      <td>45.100000</td>\n",
       "      <td>19.050000</td>\n",
       "    </tr>\n",
       "    <tr>\n",
       "      <th>max</th>\n",
       "      <td>296.400000</td>\n",
       "      <td>49.600000</td>\n",
       "      <td>114.000000</td>\n",
       "      <td>27.000000</td>\n",
       "    </tr>\n",
       "  </tbody>\n",
       "</table>\n",
       "</div>"
      ],
      "text/plain": [
       "               TV       Radio   Newspaper       Sales\n",
       "count  200.000000  200.000000  200.000000  200.000000\n",
       "mean   147.042500   23.264000   30.554000   15.130500\n",
       "std     85.854236   14.846809   21.778621    5.283892\n",
       "min      0.700000    0.000000    0.300000    1.600000\n",
       "25%     74.375000    9.975000   12.750000   11.000000\n",
       "50%    149.750000   22.900000   25.750000   16.000000\n",
       "75%    218.825000   36.525000   45.100000   19.050000\n",
       "max    296.400000   49.600000  114.000000   27.000000"
      ]
     },
     "execution_count": 12,
     "metadata": {},
     "output_type": "execute_result"
    }
   ],
   "source": [
    "advertising.describe()"
   ]
  },
  {
   "cell_type": "markdown",
   "id": "cac4bcc6-748f-4436-b616-3294da4efaed",
   "metadata": {},
   "source": [
    "##### Step2: Visualising the data"
   ]
  },
  {
   "cell_type": "markdown",
   "id": "fe4cd62e-5c09-49ed-9808-85e368f4a915",
   "metadata": {},
   "source": [
    "Lets first visualise the data using seaborn.\n",
    "\n",
    "Now will check using pairplot which variable is most correlated with Sales\n"
   ]
  },
  {
   "cell_type": "code",
   "execution_count": 15,
   "id": "b9e453b9-48e1-429b-9d8e-ef5987de2867",
   "metadata": {},
   "outputs": [],
   "source": [
    "import matplotlib.pyplot as plt\n",
    "import seaborn as sns"
   ]
  },
  {
   "cell_type": "code",
   "execution_count": 16,
   "id": "2019828b-80f9-4a7a-8b0c-a9886b54ce6d",
   "metadata": {},
   "outputs": [],
   "source": [
    "# Plotting pair plot"
   ]
  },
  {
   "cell_type": "code",
   "execution_count": 17,
   "id": "90b8fae8-8d2d-4746-81a7-0824e960afe4",
   "metadata": {},
   "outputs": [
    {
     "data": {
      "image/png": "[encoded data removed]",
      "text/plain": [
       "<Figure size 750x250 with 3 Axes>"
      ]
     },
     "metadata": {},
     "output_type": "display_data"
    }
   ],
   "source": [
    "sns.pairplot(advertising, x_vars = ('TV', 'Radio', 'Newspaper'), y_vars= 'Sales')\n",
    "plt.show()"
   ]
  },
  {
   "cell_type": "code",
   "execution_count": 18,
   "id": "3ce9bf59-231d-4d60-a51d-57939f9c67f7",
   "metadata": {},
   "outputs": [],
   "source": [
    "# Plotting heat map"
   ]
  },
  {
   "cell_type": "code",
   "execution_count": 19,
   "id": "f8c439a6-03e4-41ed-b86d-8b5c3e7935fb",
   "metadata": {},
   "outputs": [
    {
     "data": {
      "image/png": "[encoded data removed]",
      "text/plain": [
       "<Figure size 640x480 with 2 Axes>"
      ]
     },
     "metadata": {},
     "output_type": "display_data"
    }
   ],
   "source": [
    "sns.heatmap(advertising.corr(), cmap= 'coolwarm', annot =True)\n",
    "plt.show()"
   ]
  },
  {
   "cell_type": "markdown",
   "id": "07890a06-4dae-4283-9635-a23263a809e3",
   "metadata": {},
   "source": [
    "From the pair plot and heat map it can be seen that TV is most correlated with Sales.\n",
    "\n",
    "So will go ahead and perform linear regression using TV as feature variable"
   ]
  },
  {
   "cell_type": "markdown",
   "id": "3367843b-d92a-4742-9418-6bac7f347ad2",
   "metadata": {},
   "source": [
    "##### Step 3: Performing Simple Linear Regression\n",
    "\n",
    "Equation of linear regression<br>\n",
    "$y = c + m_1x_1 + m_2x_2 + ... + m_nx_n$\n",
    "\n",
    "-  $y$ is the response\n",
    "-  $c$ is the intercept\n",
    "-  $m_1$ is the coefficient for the first feature\n",
    "-  $m_n$ is the coefficient for the nth feature<br>\n",
    "\n",
    "In our case:\n",
    "\n",
    "$y = c + m_1 \\times TV$\n",
    "\n",
    "The $m$ values are called the model **coefficients** or **model parameters**."
   ]
  },
  {
   "cell_type": "markdown",
   "id": "3e0469ba-f12a-4bb7-8544-76b47ce7d026",
   "metadata": {},
   "source": [
    "##### Generic steps in Model building using Statsmodel"
   ]
  },
  {
   "cell_type": "markdown",
   "id": "cb7cb683-87f6-46da-9b8d-2ad6d7912a49",
   "metadata": {},
   "source": [
    "First assign feature variable 'TV' to the variable 'X'\n",
    "\n",
    "Reponse variable 'Sales' to the variable 'y'"
   ]
  },
  {
   "cell_type": "code",
   "execution_count": 24,
   "id": "7005fb44-d4d6-4646-8a3b-255fb8a9cfd7",
   "metadata": {},
   "outputs": [],
   "source": [
    "X = advertising['TV']\n",
    "y= advertising['Sales']"
   ]
  },
  {
   "cell_type": "markdown",
   "id": "bd812440-b2bb-4dc2-892e-7f025eacf97a",
   "metadata": {},
   "source": [
    "##### Train-test split"
   ]
  },
  {
   "cell_type": "markdown",
   "id": "1cd09371-557e-421b-bc57-b9c8de2cf649",
   "metadata": {},
   "source": [
    "Split our variable to train_test sets.\n",
    "\n",
    "Import train_test_split from sklearn.model_selection libary\n",
    "\n",
    "It is best practice to keep 70% data to train set and 30% data in test set"
   ]
  },
  {
   "cell_type": "code",
   "execution_count": 27,
   "id": "f3f7c70f-8a71-4a43-8571-ac510e30fe3a",
   "metadata": {},
   "outputs": [],
   "source": [
    "# Importing train_test_split\n",
    "\n",
    "from sklearn.model_selection import train_test_split"
   ]
  },
  {
   "cell_type": "code",
   "execution_count": 28,
   "id": "456d07cc-0384-433d-beec-65da31130cb3",
   "metadata": {},
   "outputs": [],
   "source": [
    "# Splitting the data \n",
    "\n",
    "X_train, X_test, y_train, y_test = train_test_split(X, y, train_size= 0.7 , test_size =0.3, random_state =100)"
   ]
  },
  {
   "cell_type": "code",
   "execution_count": 29,
   "id": "f3315bb5-cf17-4ac8-8834-c25ea041f223",
   "metadata": {},
   "outputs": [
    {
     "data": {
      "text/plain": [
       "74     213.4\n",
       "3      151.5\n",
       "185    205.0\n",
       "26     142.9\n",
       "90     134.3\n",
       "Name: TV, dtype: float64"
      ]
     },
     "execution_count": 29,
     "metadata": {},
     "output_type": "execute_result"
    }
   ],
   "source": [
    "# Checking the head of train data\n",
    "\n",
    "X_train.head()"
   ]
  },
  {
   "cell_type": "code",
   "execution_count": 30,
   "id": "fcb22486-fa81-4d81-93d2-4e58954e4776",
   "metadata": {},
   "outputs": [
    {
     "data": {
      "text/plain": [
       "74     17.0\n",
       "3      16.5\n",
       "185    22.6\n",
       "26     15.0\n",
       "90     14.0\n",
       "Name: Sales, dtype: float64"
      ]
     },
     "execution_count": 30,
     "metadata": {},
     "output_type": "execute_result"
    }
   ],
   "source": [
    "y_train.head()"
   ]
  },
  {
   "cell_type": "markdown",
   "id": "6e679b65-8d71-4785-8be8-a213786d4bc0",
   "metadata": {},
   "source": [
    "##### Building a linear model"
   ]
  },
  {
   "cell_type": "markdown",
   "id": "ae457715-d470-4f88-881a-00ce096ecef5",
   "metadata": {},
   "source": [
    "Importing statsmodel.api library to perform linear regression"
   ]
  },
  {
   "cell_type": "code",
   "execution_count": 33,
   "id": "9b761cbf-d466-40d6-94ab-442e8a1882a5",
   "metadata": {},
   "outputs": [],
   "source": [
    "import statsmodels.api as sm"
   ]
  },
  {
   "cell_type": "markdown",
   "id": "b146dd4e-2979-4747-ae55-47a1735feb33",
   "metadata": {},
   "source": [
    "By default, stasmodels fit a line on the dataset which passes through the origin.\n",
    "\n",
    "But to get a intercept, we have to manually use add_constant attribute of statsmodel.\n",
    "\n",
    "After adding add_constant to X_train dataset, we can fit line using OLS(Ordinary Least Squares) attributes of statsmodel."
   ]
  },
  {
   "cell_type": "code",
   "execution_count": 35,
   "id": "613bc832-5117-4fe1-8c78-5397cf6ec89b",
   "metadata": {},
   "outputs": [],
   "source": [
    "# Adding a constant to get an intercept\n",
    "\n",
    "X_train_sm = sm.add_constant(X_train)"
   ]
  },
  {
   "cell_type": "code",
   "execution_count": 36,
   "id": "7e4176dd-bd2e-431d-a70d-d6a2bdb273d9",
   "metadata": {},
   "outputs": [],
   "source": [
    "# Fitting the regression line using OLS\n",
    "\n",
    "lr = sm.OLS(y_train, X_train_sm).fit()"
   ]
  },
  {
   "cell_type": "code",
   "execution_count": 37,
   "id": "92bb75e8-2795-44c9-b87e-143cd0b786e6",
   "metadata": {},
   "outputs": [
    {
     "data": {
      "text/plain": [
       "const    6.948683\n",
       "TV       0.054546\n",
       "dtype: float64"
      ]
     },
     "execution_count": 37,
     "metadata": {},
     "output_type": "execute_result"
    }
   ],
   "source": [
    "# Printing the parameters to get intercept and slope of the regression line\n",
    "\n",
    "lr.params"
   ]
  },
  {
   "cell_type": "code",
   "execution_count": 38,
   "id": "2e30f08d-1b53-4d3b-92c6-9bfab8919223",
   "metadata": {},
   "outputs": [
    {
     "name": "stdout",
     "output_type": "stream",
     "text": [
      "                            OLS Regression Results                            \n",
      "==============================================================================\n",
      "Dep. Variable:                  Sales   R-squared:                       0.816\n",
      "Model:                            OLS   Adj. R-squared:                  0.814\n",
      "Method:                 Least Squares   F-statistic:                     611.2\n",
      "Date:                Wed, 23 Jul 2025   Prob (F-statistic):           1.52e-52\n",
      "Time:                        19:11:31   Log-Likelihood:                -321.12\n",
      "No. Observations:                 140   AIC:                             646.2\n",
      "Df Residuals:                     138   BIC:                             652.1\n",
      "Df Model:                           1                                         \n",
      "Covariance Type:            nonrobust                                         \n",
      "==============================================================================\n",
      "                 coef    std err          t      P>|t|      [0.025      0.975]\n",
      "------------------------------------------------------------------------------\n",
      "const          6.9487      0.385     18.068      0.000       6.188       7.709\n",
      "TV             0.0545      0.002     24.722      0.000       0.050       0.059\n",
      "==============================================================================\n",
      "Omnibus:                        0.027   Durbin-Watson:                   2.196\n",
      "Prob(Omnibus):                  0.987   Jarque-Bera (JB):                0.150\n",
      "Skew:                          -0.006   Prob(JB):                        0.928\n",
      "Kurtosis:                       2.840   Cond. No.                         328.\n",
      "==============================================================================\n",
      "\n",
      "Notes:\n",
      "[1] Standard Errors assume that the covariance matrix of the errors is correctly specified.\n"
     ]
    }
   ],
   "source": [
    "# Performing a summary operations to get all the different parameters of regession line\n",
    "\n",
    "print(lr.summary())"
   ]
  },
  {
   "cell_type": "markdown",
   "id": "0fcc707f-f895-4be7-8b51-35db8462ca0b",
   "metadata": {},
   "source": [
    "##### Looking at some key statistics from summary"
   ]
  },
  {
   "cell_type": "markdown",
   "id": "2000bbc1-d48b-4818-bdef-72d3021aa989",
   "metadata": {},
   "source": [
    "The values we are concerned with are -\n",
    "\n",
    "The coefficients and significance (p-values)\n",
    "\n",
    "R-squared\n",
    "\n",
    "F statistic and its significance"
   ]
  },
  {
   "cell_type": "markdown",
   "id": "bc31636d-4430-4fba-b4c2-630e9fe5a909",
   "metadata": {},
   "source": [
    "##### 1. The coefficient for TV is 0.054, with a very low p value."
   ]
  },
  {
   "cell_type": "markdown",
   "id": "95dc8763-b33c-487d-9a8b-e1e305941bd5",
   "metadata": {},
   "source": [
    "- The coefficient is statistically significant. So the association is not purely by chance.\n",
    "\n",
    "- P-value for TV = 0.000 (very small):TV is highly statistically significant (strong evidence against null hypothesis).\n"
   ]
  },
  {
   "cell_type": "markdown",
   "id": "db137127-4501-4055-8663-f17a828536a2",
   "metadata": {},
   "source": [
    "##### 2. R - squared is 0.816"
   ]
  },
  {
   "cell_type": "markdown",
   "id": "702fb009-d25c-4d21-9226-16e49ccc1650",
   "metadata": {},
   "source": [
    "- This means 81.6% of the variance in Sales is explained by TV advertising spend alone.\n",
    "\n",
    "- This is a decent R-squared value."
   ]
  },
  {
   "cell_type": "markdown",
   "id": "ff6bdc6e-dd22-4d93-998c-1a95c92c40d5",
   "metadata": {},
   "source": [
    "##### 3. F statistic has a very low p value (practically low)"
   ]
  },
  {
   "cell_type": "markdown",
   "id": "cadb4bd3-5ebe-4035-ae8c-90c206d75166",
   "metadata": {},
   "source": [
    "Meaning that the model fit is statistically significant, and the explained variance isn't purely by chance."
   ]
  },
  {
   "cell_type": "markdown",
   "id": "85da1d0d-cde5-4b75-984e-737a0d474a61",
   "metadata": {},
   "source": [
    "##### The fit is significant . Lets now visualise how well the model fit the data."
   ]
  },
  {
   "cell_type": "markdown",
   "id": "85f33ef9-2737-43ed-abd5-c3d5a98763e3",
   "metadata": {},
   "source": [
    "From the parameters we got, the equation of linear regression becomes:\n",
    "\n",
    "$ Sales = 6.948 + 0.054 \\times TV $"
   ]
  },
  {
   "cell_type": "code",
   "execution_count": 49,
   "id": "dcadabd1-9f85-42e9-ad59-13ca2c72c38d",
   "metadata": {},
   "outputs": [
    {
     "data": {
      "image/png": "[encoded data removed]",
      "text/plain": [
       "<Figure size 640x480 with 1 Axes>"
      ]
     },
     "metadata": {},
     "output_type": "display_data"
    }
   ],
   "source": [
    "plt.scatter(X_train, y_train)\n",
    "plt.plot(X_train, 6.948+ .054 * X_train, 'r')\n",
    "plt.show()"
   ]
  },
  {
   "cell_type": "markdown",
   "id": "0bde82f2-d685-4ecb-a52a-1e1e09739228",
   "metadata": {},
   "source": [
    "##### Step:4 Residual analysis"
   ]
  },
  {
   "cell_type": "markdown",
   "id": "72879143-930c-4c98-9faf-a0956a616d5b",
   "metadata": {},
   "source": [
    "To validate assumptions of the model, and hence the reliability for inference"
   ]
  },
  {
   "cell_type": "markdown",
   "id": "4994e501-6dde-4fa4-9733-5703f70d74ef",
   "metadata": {},
   "source": [
    "##### Distribution of Error terms"
   ]
  },
  {
   "cell_type": "markdown",
   "id": "d1fdab7a-f590-40d8-9cc6-6e1ce9585b0b",
   "metadata": {},
   "source": [
    "- We need to check whether error terms are normally distributed (this is one of the major assumption of linear regression)\n",
    "- Plotting a histogram to see how it looks like.\n"
   ]
  },
  {
   "cell_type": "code",
   "execution_count": 54,
   "id": "96f03efd-b3db-4e8d-b9ac-84d4b63a0638",
   "metadata": {},
   "outputs": [],
   "source": [
    "y_train_pred = lr.predict(X_train_sm)\n",
    "\n",
    "res = y_train - y_train_pred"
   ]
  },
  {
   "cell_type": "code",
   "execution_count": 55,
   "id": "1e20e4c6-2c6a-4048-8a18-0fb4d6656282",
   "metadata": {},
   "outputs": [
    {
     "data": {
      "image/png": "[encoded data removed]",
      "text/plain": [
       "<Figure size 500x500 with 1 Axes>"
      ]
     },
     "metadata": {},
     "output_type": "display_data"
    }
   ],
   "source": [
    "sns.displot(res, bins = 15)\n",
    "plt.title('Error Term', fontsize=10)\n",
    "plt.xlabel('y_train - y_train_pred')\n",
    "plt.show()"
   ]
  },
  {
   "cell_type": "markdown",
   "id": "275e6326-aa1f-4fa1-a327-ff9892cfd1dd",
   "metadata": {},
   "source": [
    "The residual follow a normal distribution with mean =0. Assumption is correct."
   ]
  },
  {
   "cell_type": "markdown",
   "id": "df7fab65-395b-45cd-8fb4-7aee403f89d6",
   "metadata": {},
   "source": [
    "##### Looking for pattern in residuals . Checking for homoscedesticity"
   ]
  },
  {
   "cell_type": "code",
   "execution_count": 58,
   "id": "4190fd3a-3e06-4151-bffb-d8f74a2a5ecd",
   "metadata": {},
   "outputs": [
    {
     "data": {
      "image/png": "[encoded data removed]",
      "text/plain": [
       "<Figure size 640x480 with 1 Axes>"
      ]
     },
     "metadata": {},
     "output_type": "display_data"
    }
   ],
   "source": [
    "plt.scatter(X_train, res)\n",
    "plt.show()"
   ]
  },
  {
   "cell_type": "markdown",
   "id": "037d7659-5bd3-4f3c-9dcd-b30e0c3b1cfa",
   "metadata": {},
   "source": [
    "The variance of residuals increasing with X indicates that there is significant variation that this model is unable to explain."
   ]
  },
  {
   "cell_type": "markdown",
   "id": "e2c7fb5b-8a0b-44de-aaa1-017ad12547c0",
   "metadata": {},
   "source": [
    "##### Understading from our evaluation :\n",
    "- We can say that model fit is not by chance .\n",
    "- The normality of residual terms allows some inference on the coefficients.\n",
    "- Variance of residuals increasing with X (heteroscedesticity) indicates that there is significant variation that this model is unable to explain.\n",
    "- Also, regression of line is very good fit to the data."
   ]
  },
  {
   "cell_type": "markdown",
   "id": "2a626078-19c1-4634-8ef3-1bb845474293",
   "metadata": {},
   "source": [
    "##### Step5: Prediction on the test data set"
   ]
  },
  {
   "cell_type": "markdown",
   "id": "ae1d1c77-b9c8-4551-827a-48ea4e76d53e",
   "metadata": {},
   "source": [
    "- As regression line is fitted on the train dataset, will now make some predictions on test datasets.\n",
    "- Now adding constant to X_test data sets to get intercept and predcting corresponding y values."
   ]
  },
  {
   "cell_type": "code",
   "execution_count": 63,
   "id": "b64a845f-9195-40c4-b289-4d37ae9e3b8f",
   "metadata": {},
   "outputs": [],
   "source": [
    "# Adding constant to X_test \n",
    "X_test_sm = sm.add_constant(X_test)"
   ]
  },
  {
   "cell_type": "code",
   "execution_count": 64,
   "id": "3837146b-069b-47b3-a0e2-6ccaf410e0f8",
   "metadata": {},
   "outputs": [],
   "source": [
    "# Predicting y values\n",
    "y_test_pred = lr.predict(X_test_sm)"
   ]
  },
  {
   "cell_type": "code",
   "execution_count": 65,
   "id": "6896077f-b6b8-4154-87e4-45b7cb5363c8",
   "metadata": {},
   "outputs": [
    {
     "data": {
      "text/plain": [
       "126     7.374140\n",
       "104    19.941482\n",
       "99     14.323269\n",
       "92     18.823294\n",
       "111    20.132392\n",
       "dtype: float64"
      ]
     },
     "execution_count": 65,
     "metadata": {},
     "output_type": "execute_result"
    }
   ],
   "source": [
    "y_test_pred.head()"
   ]
  },
  {
   "cell_type": "code",
   "execution_count": 66,
   "id": "806900bf-8eef-4e28-aff7-bb9a84c6749a",
   "metadata": {},
   "outputs": [],
   "source": [
    "# Now will import mean_squared_error, r2_score from sklearn.metrics"
   ]
  },
  {
   "cell_type": "code",
   "execution_count": 67,
   "id": "d89c1747-20d1-4be7-9f2c-46a54f678dc5",
   "metadata": {},
   "outputs": [],
   "source": [
    "from sklearn.metrics import mean_squared_error\n",
    "from sklearn.metrics import r2_score"
   ]
  },
  {
   "cell_type": "markdown",
   "id": "edde03de-ea6b-4d7e-ae77-372bcf7d7c99",
   "metadata": {},
   "source": [
    "##### Looking at the RMSE "
   ]
  },
  {
   "cell_type": "code",
   "execution_count": 69,
   "id": "d424feb3-d434-4574-8e28-9fd9ee2c05d7",
   "metadata": {},
   "outputs": [
    {
     "data": {
      "text/plain": [
       "2.019296008966232"
      ]
     },
     "execution_count": 69,
     "metadata": {},
     "output_type": "execute_result"
    }
   ],
   "source": [
    "np.sqrt(mean_squared_error(y_test, y_test_pred))"
   ]
  },
  {
   "cell_type": "markdown",
   "id": "456d1812-db7d-46ad-ae9f-37be24ecaab1",
   "metadata": {},
   "source": [
    "On average, your model's predictions are about 2.02 units off from the actual sales values."
   ]
  },
  {
   "cell_type": "markdown",
   "id": "58726108-386d-4b85-9e59-4e773163a777",
   "metadata": {},
   "source": [
    "##### Checking r-squared on the test set"
   ]
  },
  {
   "cell_type": "code",
   "execution_count": 72,
   "id": "23248c6c-6ab6-4173-8420-988012010422",
   "metadata": {},
   "outputs": [
    {
     "data": {
      "text/plain": [
       "0.7921031601245659"
      ]
     },
     "execution_count": 72,
     "metadata": {},
     "output_type": "execute_result"
    }
   ],
   "source": [
    "r_squared = r2_score(y_test, y_test_pred)\n",
    "r_squared"
   ]
  },
  {
   "cell_type": "markdown",
   "id": "8154c216-c07c-40fb-8894-99cde76a1d61",
   "metadata": {},
   "source": [
    "Model explains 79.2% of the variance in the Sales values on the test data."
   ]
  },
  {
   "cell_type": "markdown",
   "id": "9de40134-5b04-4a01-b9eb-24079eca5807",
   "metadata": {},
   "source": [
    "##### Visualising fit on the test data"
   ]
  },
  {
   "cell_type": "code",
   "execution_count": 75,
   "id": "d6c7a58b-9e02-49e4-8556-d1497cf76c35",
   "metadata": {},
   "outputs": [
    {
     "data": {
      "image/png": "[encoded data removed]",
      "text/plain": [
       "<Figure size 640x480 with 1 Axes>"
      ]
     },
     "metadata": {},
     "output_type": "display_data"
    }
   ],
   "source": [
    "plt.scatter(X_test, y_test)\n",
    "plt.plot(X_test, 6.948 + 0.054 * X_test, 'r' )\n",
    "plt.show()"
   ]
  },
  {
   "cell_type": "markdown",
   "id": "d4970ed4-885a-43c2-9321-c8bf8aafb91e",
   "metadata": {},
   "source": [
    "##### Linear regression using linear model in sklearn"
   ]
  },
  {
   "cell_type": "markdown",
   "id": "f3189411-6706-493d-8afa-6b8d68216e3f",
   "metadata": {},
   "source": [
    "- Apart from statsmodel, there is another package sklearn that can be used to perform linear regression.\n",
    "- Will use linear model library from sklearn to build the model.\n",
    "- One steps we need to do is, there is single feature need to add additional column in order to fit linear regression"
   ]
  },
  {
   "cell_type": "code",
   "execution_count": 78,
   "id": "0ab8471c-12cb-4218-a27b-1ca87f4115fd",
   "metadata": {},
   "outputs": [],
   "source": [
    "#Importing train_test_split\n",
    "from sklearn.model_selection import train_test_split"
   ]
  },
  {
   "cell_type": "code",
   "execution_count": 79,
   "id": "79b428fd-71ca-41f6-96dd-06bbbeaa85a7",
   "metadata": {},
   "outputs": [],
   "source": [
    "X_train_lm, X_test_lm, y_train_lm, y_test_lm = train_test_split(X, y, train_size= .7, test_size=.3, random_state=100)"
   ]
  },
  {
   "cell_type": "code",
   "execution_count": 80,
   "id": "8236fba9-1b2d-4446-9a30-0e2868a09885",
   "metadata": {},
   "outputs": [
    {
     "data": {
      "text/plain": [
       "(140,)"
      ]
     },
     "execution_count": 80,
     "metadata": {},
     "output_type": "execute_result"
    }
   ],
   "source": [
    "# checking shape\n",
    "X_train_lm.shape"
   ]
  },
  {
   "cell_type": "code",
   "execution_count": 81,
   "id": "1ae8d50a-0bf1-4fc7-8e54-428f3bd46518",
   "metadata": {},
   "outputs": [
    {
     "data": {
      "text/plain": [
       "(140,)"
      ]
     },
     "execution_count": 81,
     "metadata": {},
     "output_type": "execute_result"
    }
   ],
   "source": [
    "y_train_lm.shape"
   ]
  },
  {
   "cell_type": "markdown",
   "id": "d4d00bb4-5821-4cdc-8807-cdf511ef869b",
   "metadata": {},
   "source": [
    "##### Since Scikit-learn expects 2D input for features so  reshape the feature to 2-D"
   ]
  },
  {
   "cell_type": "code",
   "execution_count": 83,
   "id": "9f63e1bc-1c44-4737-9d5d-17ac94f0fb09",
   "metadata": {},
   "outputs": [],
   "source": [
    "X_train_lm = np.array(X_train_lm).reshape(-1,1)\n",
    "X_test_lm = np.array(X_test_lm).reshape(-1,1)"
   ]
  },
  {
   "cell_type": "code",
   "execution_count": 84,
   "id": "9f48b187-3b51-4e69-9295-d8b11edaad05",
   "metadata": {},
   "outputs": [
    {
     "name": "stdout",
     "output_type": "stream",
     "text": [
      "(140, 1)\n",
      "(140,)\n",
      "(60, 1)\n",
      "(60,)\n"
     ]
    }
   ],
   "source": [
    "print(X_train_lm.shape)\n",
    "print(y_train_lm.shape)\n",
    "print(X_test_lm.shape)\n",
    "print(y_test_lm.shape)\n"
   ]
  },
  {
   "cell_type": "code",
   "execution_count": 85,
   "id": "09df80ff-efbe-43d1-a05f-c8c2276c9052",
   "metadata": {},
   "outputs": [],
   "source": [
    "# importing LinearRegression from sklearn.linearmodel\n",
    "\n",
    "from sklearn.linear_model import LinearRegression"
   ]
  },
  {
   "cell_type": "code",
   "execution_count": 86,
   "id": "51620fd9-be85-40bc-bcba-234880142b3c",
   "metadata": {},
   "outputs": [],
   "source": [
    "# Representing linear regression as lm\n",
    "\n",
    "lm = LinearRegression()"
   ]
  },
  {
   "cell_type": "code",
   "execution_count": 87,
   "id": "806ef954-245f-425b-a99b-b557d1f93e9e",
   "metadata": {},
   "outputs": [
    {
     "data": {
      "text/html": [
       "<style>#sk-container-id-1 {color: black;background-color: white;}#sk-container-id-1 pre{padding: 0;}#sk-container-id-1 div.sk-toggleable {background-color: white;}#sk-container-id-1 label.sk-toggleable__label {cursor: pointer;display: block;width: 100%;margin-bottom: 0;padding: 0.3em;box-sizing: border-box;text-align: center;}#sk-container-id-1 label.sk-toggleable__label-arrow:before {content: \"▸\";float: left;margin-right: 0.25em;color: #696969;}#sk-container-id-1 label.sk-toggleable__label-arrow:hover:before {color: black;}#sk-container-id-1 div.sk-estimator:hover label.sk-toggleable__label-arrow:before {color: black;}#sk-container-id-1 div.sk-toggleable__content {max-height: 0;max-width: 0;overflow: hidden;text-align: left;background-color: #f0f8ff;}#sk-container-id-1 div.sk-toggleable__content pre {margin: 0.2em;color: black;border-radius: 0.25em;background-color: #f0f8ff;}#sk-container-id-1 input.sk-toggleable__control:checked~div.sk-toggleable__content {max-height: 200px;max-width: 100%;overflow: auto;}#sk-container-id-1 input.sk-toggleable__control:checked~label.sk-toggleable__label-arrow:before {content: \"▾\";}#sk-container-id-1 div.sk-estimator input.sk-toggleable__control:checked~label.sk-toggleable__label {background-color: #d4ebff;}#sk-container-id-1 div.sk-label input.sk-toggleable__control:checked~label.sk-toggleable__label {background-color: #d4ebff;}#sk-container-id-1 input.sk-hidden--visually {border: 0;clip: rect(1px 1px 1px 1px);clip: rect(1px, 1px, 1px, 1px);height: 1px;margin: -1px;overflow: hidden;padding: 0;position: absolute;width: 1px;}#sk-container-id-1 div.sk-estimator {font-family: monospace;background-color: #f0f8ff;border: 1px dotted black;border-radius: 0.25em;box-sizing: border-box;margin-bottom: 0.5em;}#sk-container-id-1 div.sk-estimator:hover {background-color: #d4ebff;}#sk-container-id-1 div.sk-parallel-item::after {content: \"\";width: 100%;border-bottom: 1px solid gray;flex-grow: 1;}#sk-container-id-1 div.sk-label:hover label.sk-toggleable__label {background-color: #d4ebff;}#sk-container-id-1 div.sk-serial::before {content: \"\";position: absolute;border-left: 1px solid gray;box-sizing: border-box;top: 0;bottom: 0;left: 50%;z-index: 0;}#sk-container-id-1 div.sk-serial {display: flex;flex-direction: column;align-items: center;background-color: white;padding-right: 0.2em;padding-left: 0.2em;position: relative;}#sk-container-id-1 div.sk-item {position: relative;z-index: 1;}#sk-container-id-1 div.sk-parallel {display: flex;align-items: stretch;justify-content: center;background-color: white;position: relative;}#sk-container-id-1 div.sk-item::before, #sk-container-id-1 div.sk-parallel-item::before {content: \"\";position: absolute;border-left: 1px solid gray;box-sizing: border-box;top: 0;bottom: 0;left: 50%;z-index: -1;}#sk-container-id-1 div.sk-parallel-item {display: flex;flex-direction: column;z-index: 1;position: relative;background-color: white;}#sk-container-id-1 div.sk-parallel-item:first-child::after {align-self: flex-end;width: 50%;}#sk-container-id-1 div.sk-parallel-item:last-child::after {align-self: flex-start;width: 50%;}#sk-container-id-1 div.sk-parallel-item:only-child::after {width: 0;}#sk-container-id-1 div.sk-dashed-wrapped {border: 1px dashed gray;margin: 0 0.4em 0.5em 0.4em;box-sizing: border-box;padding-bottom: 0.4em;background-color: white;}#sk-container-id-1 div.sk-label label {font-family: monospace;font-weight: bold;display: inline-block;line-height: 1.2em;}#sk-container-id-1 div.sk-label-container {text-align: center;}#sk-container-id-1 div.sk-container {/* jupyter's `normalize.less` sets `[hidden] { display: none; }` but bootstrap.min.css set `[hidden] { display: none !important; }` so we also need the `!important` here to be able to override the default hidden behavior on the sphinx rendered scikit-learn.org. See: https://github.com/scikit-learn/scikit-learn/issues/21755 */display: inline-block !important;position: relative;}#sk-container-id-1 div.sk-text-repr-fallback {display: none;}</style><div id=\"sk-container-id-1\" class=\"sk-top-container\"><div class=\"sk-text-repr-fallback\"><pre>LinearRegression()</pre><b>In a Jupyter environment, please rerun this cell to show the HTML representation or trust the notebook. <br />On GitHub, the HTML representation is unable to render, please try loading this page with nbviewer.org.</b></div><div class=\"sk-container\" hidden><div class=\"sk-item\"><div class=\"sk-estimator sk-toggleable\"><input class=\"sk-toggleable__control sk-hidden--visually\" id=\"sk-estimator-id-1\" type=\"checkbox\" checked><label for=\"sk-estimator-id-1\" class=\"sk-toggleable__label sk-toggleable__label-arrow\">LinearRegression</label><div class=\"sk-toggleable__content\"><pre>LinearRegression()</pre></div></div></div></div></div>"
      ],
      "text/plain": [
       "LinearRegression()"
      ]
     },
     "execution_count": 87,
     "metadata": {},
     "output_type": "execute_result"
    }
   ],
   "source": [
    "# fitting the model \n",
    "\n",
    "lm.fit(X_train_lm, y_train_lm)"
   ]
  },
  {
   "cell_type": "code",
   "execution_count": 88,
   "id": "0998f242-a4b6-469f-b646-62e576920a43",
   "metadata": {},
   "outputs": [
    {
     "name": "stdout",
     "output_type": "stream",
     "text": [
      "6.948683200001357\n",
      "[0.05454575]\n"
     ]
    }
   ],
   "source": [
    "print(lm.intercept_)\n",
    "print(lm.coef_)"
   ]
  },
  {
   "cell_type": "markdown",
   "id": "c3a85ed6-ec34-4227-a436-538e5b2589fc",
   "metadata": {},
   "source": [
    "##### The equation is same as we got before\n",
    "Sales = 6.94 + .05 * TV"
   ]
  },
  {
   "cell_type": "markdown",
   "id": "8283ef07-c9f5-4623-8678-5af7d4f639e3",
   "metadata": {},
   "source": [
    "For every 1 unit ($1,000) increase in TV spend, Sales increase by ~0.0545 units (i.e., 54.5 units) on average"
   ]
  },
  {
   "cell_type": "markdown",
   "id": "e0a5ffdb-54ab-4caa-8135-0ba24ad3a430",
   "metadata": {},
   "source": [
    "##### Why is it called 'R-squared'?"
   ]
  },
  {
   "cell_type": "code",
   "execution_count": 92,
   "id": "2cb9e320-844c-4d1f-975d-dbc1107937bd",
   "metadata": {},
   "outputs": [
    {
     "name": "stdout",
     "output_type": "stream",
     "text": [
      "[[1.         0.90321277]\n",
      " [0.90321277 1.        ]]\n"
     ]
    }
   ],
   "source": [
    "corrs = np.corrcoef(X_train, y_train)\n",
    "print(corrs)"
   ]
  },
  {
   "cell_type": "markdown",
   "id": "22e9f64f-462a-4fa7-911d-0f1f0060494d",
   "metadata": {},
   "source": [
    "corrs[0, 1] is the Pearson correlation coefficient (r) between X_train and y_train."
   ]
  },
  {
   "cell_type": "code",
   "execution_count": 94,
   "id": "27bba5b8-1e66-4938-bc4b-58a52bd7a0fe",
   "metadata": {},
   "outputs": [
    {
     "data": {
      "text/plain": [
       "0.8157933136480384"
      ]
     },
     "execution_count": 94,
     "metadata": {},
     "output_type": "execute_result"
    }
   ],
   "source": [
    "corrs[0,1]**2"
   ]
  },
  {
   "cell_type": "markdown",
   "id": "707c7883-bf77-44f2-ba15-eaed3bc545eb",
   "metadata": {},
   "source": [
    "0.81 coefficient of determination — R² This matches your earlier R² value from the model summary: 0.816"
   ]
  },
  {
   "cell_type": "markdown",
   "id": "82842488-ee43-4f9e-92f7-14ceed4e9f57",
   "metadata": {},
   "source": [
    "##### What is a good RMSE? Is there some RMSE that I should aim for?¶"
   ]
  },
  {
   "cell_type": "markdown",
   "id": "3d8847d1-58aa-4b1a-be23-3aff4c780b5e",
   "metadata": {},
   "source": [
    "The RMSE:\n",
    "\n",
    "depends on the units of the Y variables\n",
    "is NOT a normalized measure\n",
    "While it can't really tell you of the gooodness of the particular model, it can help you compare models.\n",
    "\n",
    "A better measure is R squared, which is normalized."
   ]
  },
  {
   "cell_type": "markdown",
   "id": "ae698e9e-4f50-4785-8f39-cfbc8a96480d",
   "metadata": {},
   "source": [
    " ##### Does scaling have an impact on the model? When should I scale?"
   ]
  },
  {
   "cell_type": "markdown",
   "id": "6b10ed3e-6084-4f3b-b597-3df9b8a0903b",
   "metadata": {},
   "source": [
    "These algorithms are sensitive to feature scales, because they rely on:\n",
    "\n",
    "- Distance-based calculations (e.g., Euclidean distance)\n",
    "\n",
    "- Gradient descent optimization"
   ]
  },
  {
   "cell_type": "markdown",
   "id": "c162de95-1fc8-4f71-a4a8-12d7da6393be",
   "metadata": {},
   "source": [
    "##### What Does Scaling Actually Do?\n",
    "\n",
    "| Method             | Effect                                        |\n",
    "| ------------------ | --------------------------------------------- |\n",
    "| **StandardScaler** | Transforms features to have mean = 0, std = 1 |\n",
    "| **MinMaxScaler**   | Rescales features to range \\[0, 1]            |\n"
   ]
  },
  {
   "cell_type": "code",
   "execution_count": 101,
   "id": "f98a683c-de1f-475b-ae19-92a892a93f4e",
   "metadata": {},
   "outputs": [],
   "source": [
    "from sklearn.model_selection import train_test_split"
   ]
  },
  {
   "cell_type": "code",
   "execution_count": 102,
   "id": "a89439c2-6c1a-4f4e-b820-947d759f21c2",
   "metadata": {},
   "outputs": [],
   "source": [
    "#train test split\n",
    "X_train_lm, X_test_lm, y_train_lm, y_test_lm = train_test_split(X, y, train_size = 0.7, test_size = 0.3, random_state = 100)"
   ]
  },
  {
   "cell_type": "code",
   "execution_count": 103,
   "id": "d6c0ac64-be18-4dee-a60d-28f0824e222c",
   "metadata": {},
   "outputs": [
    {
     "data": {
      "text/plain": [
       "(140,)"
      ]
     },
     "execution_count": 103,
     "metadata": {},
     "output_type": "execute_result"
    }
   ],
   "source": [
    "X_train.shape"
   ]
  },
  {
   "cell_type": "code",
   "execution_count": 104,
   "id": "e37ef146-2d86-41f1-b8c2-c752eeaeb547",
   "metadata": {},
   "outputs": [
    {
     "data": {
      "text/plain": [
       "(140,)"
      ]
     },
     "execution_count": 104,
     "metadata": {},
     "output_type": "execute_result"
    }
   ],
   "source": [
    "y_train.shape"
   ]
  },
  {
   "cell_type": "markdown",
   "id": "2aaa8ff0-3f11-4809-a05e-a3d5ad305542",
   "metadata": {},
   "source": [
    "##### Sklearn has scaling utilities handy"
   ]
  },
  {
   "cell_type": "code",
   "execution_count": 106,
   "id": "57394ce7-8680-437a-b9c3-a4aecc9529c5",
   "metadata": {},
   "outputs": [],
   "source": [
    "from sklearn.preprocessing import StandardScaler, MinMaxScaler"
   ]
  },
  {
   "cell_type": "code",
   "execution_count": 107,
   "id": "87a5982b-b5b2-49ee-9351-a4091442aef9",
   "metadata": {},
   "outputs": [],
   "source": [
    "# One thing to remember fit_transform can only be done on 2D-array\n",
    "# reshaping the data to perfrom standardisation "
   ]
  },
  {
   "cell_type": "code",
   "execution_count": 108,
   "id": "86a9fe9e-e8a0-499f-a691-46a935a229e4",
   "metadata": {},
   "outputs": [],
   "source": [
    "X_train_scaled = np.array(X_train).reshape(-1,1)\n",
    "y_train_scaled = np.array(y_train).reshape(-1,1)"
   ]
  },
  {
   "cell_type": "code",
   "execution_count": 109,
   "id": "10463b73-9aa2-409e-87f3-0c3d60bdfdb6",
   "metadata": {},
   "outputs": [
    {
     "data": {
      "text/plain": [
       "(140, 1)"
      ]
     },
     "execution_count": 109,
     "metadata": {},
     "output_type": "execute_result"
    }
   ],
   "source": [
    "X_train_scaled.shape"
   ]
  },
  {
   "cell_type": "code",
   "execution_count": 110,
   "id": "a30ddd07-e685-4189-9d98-061865324608",
   "metadata": {},
   "outputs": [
    {
     "data": {
      "text/plain": [
       "(140, 1)"
      ]
     },
     "execution_count": 110,
     "metadata": {},
     "output_type": "execute_result"
    }
   ],
   "source": [
    "y_train_scaled.shape"
   ]
  },
  {
   "cell_type": "code",
   "execution_count": 111,
   "id": "fc114928-b745-41e6-81a9-8483e247e0c1",
   "metadata": {},
   "outputs": [],
   "source": [
    "# creating a scaler object using StandardScaler\n",
    "scaler = StandardScaler()"
   ]
  },
  {
   "cell_type": "code",
   "execution_count": 112,
   "id": "a2ab6d05-4911-4e59-8aab-fa6df1f7c27c",
   "metadata": {},
   "outputs": [],
   "source": [
    "X_train_scaled = scaler.fit_transform(X_train_scaled)\n",
    "y_train_scaled = scaler.fit_transform(y_train_scaled)"
   ]
  },
  {
   "cell_type": "code",
   "execution_count": 113,
   "id": "a981f160-49a5-4955-82f8-0c8577f0bb7d",
   "metadata": {},
   "outputs": [
    {
     "name": "stdout",
     "output_type": "stream",
     "text": [
      "2.5376526277146434e-17 0.9999999999999999\n",
      "-2.5376526277146434e-16 1.0\n"
     ]
    }
   ],
   "source": [
    "print(np.mean(X_train_scaled), np.std(X_train_scaled)) \n",
    "print(np.mean(y_train_scaled), np.std(y_train_scaled))"
   ]
  },
  {
   "cell_type": "markdown",
   "id": "1cf66c98-4048-43c7-9a65-ac9c574ad726",
   "metadata": {},
   "source": [
    "These values are extremely close to zero mean and unit variance, which is exactly what we expect"
   ]
  },
  {
   "cell_type": "code",
   "execution_count": 115,
   "id": "91d101cc-1761-449d-a601-8cc716018061",
   "metadata": {},
   "outputs": [],
   "source": [
    "# Let's fit the regression line following exactly the same steps as done before"
   ]
  },
  {
   "cell_type": "code",
   "execution_count": 116,
   "id": "530d7a34-d409-4929-be72-75f5fa15c49e",
   "metadata": {},
   "outputs": [],
   "source": [
    "\n",
    "X_train_scaled = sm.add_constant(X_train_scaled)"
   ]
  },
  {
   "cell_type": "code",
   "execution_count": 117,
   "id": "50d69591-6170-4468-8bf6-397422980282",
   "metadata": {},
   "outputs": [],
   "source": [
    "lr_scaled = sm.OLS(y_train_scaled, X_train_scaled).fit()"
   ]
  },
  {
   "cell_type": "code",
   "execution_count": 118,
   "id": "b4da10a8-078c-41ae-b0b1-4f06d5f6368e",
   "metadata": {},
   "outputs": [
    {
     "data": {
      "text/plain": [
       "array([-2.91433544e-16,  9.03212773e-01])"
      ]
     },
     "execution_count": 118,
     "metadata": {},
     "output_type": "execute_result"
    }
   ],
   "source": [
    "# Checking the parameters\n",
    "lr_scaled.params"
   ]
  },
  {
   "cell_type": "code",
   "execution_count": 119,
   "id": "fff80119-595c-4dee-9774-b89526723942",
   "metadata": {},
   "outputs": [
    {
     "name": "stdout",
     "output_type": "stream",
     "text": [
      "                            OLS Regression Results                            \n",
      "==============================================================================\n",
      "Dep. Variable:                      y   R-squared:                       0.816\n",
      "Model:                            OLS   Adj. R-squared:                  0.814\n",
      "Method:                 Least Squares   F-statistic:                     611.2\n",
      "Date:                Wed, 23 Jul 2025   Prob (F-statistic):           1.52e-52\n",
      "Time:                        19:11:33   Log-Likelihood:                -80.233\n",
      "No. Observations:                 140   AIC:                             164.5\n",
      "Df Residuals:                     138   BIC:                             170.3\n",
      "Df Model:                           1                                         \n",
      "Covariance Type:            nonrobust                                         \n",
      "==============================================================================\n",
      "                 coef    std err          t      P>|t|      [0.025      0.975]\n",
      "------------------------------------------------------------------------------\n",
      "const      -2.914e-16      0.037  -7.98e-15      1.000      -0.072       0.072\n",
      "x1             0.9032      0.037     24.722      0.000       0.831       0.975\n",
      "==============================================================================\n",
      "Omnibus:                        0.027   Durbin-Watson:                   2.196\n",
      "Prob(Omnibus):                  0.987   Jarque-Bera (JB):                0.150\n",
      "Skew:                          -0.006   Prob(JB):                        0.928\n",
      "Kurtosis:                       2.840   Cond. No.                         1.00\n",
      "==============================================================================\n",
      "\n",
      "Notes:\n",
      "[1] Standard Errors assume that the covariance matrix of the errors is correctly specified.\n"
     ]
    }
   ],
   "source": [
    "print(lr_scaled.summary())"
   ]
  },
  {
   "cell_type": "markdown",
   "id": "8c12465b-03a1-4b1b-a8b7-2937eaee3bf2",
   "metadata": {},
   "source": [
    "##### Model statistics and goodness of fit remain unchanged.¶\n",
    "So why scale at all?\n",
    "- Helps with interpretation \n",
    "- Faster convergence of gradient descent"
   ]
  },
  {
   "cell_type": "markdown",
   "id": "fa1f7e1e-b98f-4a8f-b3aa-e2b9d2a2a239",
   "metadata": {},
   "source": [
    "##### OLS Regression Summary Conclusion"
   ]
  },
  {
   "cell_type": "markdown",
   "id": "9b8dbf9a-9d4d-47fa-aa06-f59dbaa43e95",
   "metadata": {},
   "source": [
    "##### Model Fit:\n",
    "\n",
    "R-squared = 0.816: The model explains 81.6% of the variance in the dependent variable (y). This indicates a strong linear relationship between the predictor (x1) and the outcome.\n",
    "\n",
    "Adjusted R-squared = 0.814: After adjusting for the number of predictors, the model still explains about 81.4% of the variation, indicating minimal overfitting and a well-generalized model.\n",
    "\n",
    "##### Statistical Significance:\n",
    "\n",
    "F-statistic = 611.2, p-value = 1.52e-52: The overall model is highly statistically significant, meaning the predictor (x1) contributes meaningfully to explaining the variance in the target variable.\n",
    "\n",
    "The coefficient for x1 is 0.9032 with a very low p-value (0.000), indicating that this feature has a strong and statistically significant positive effect on y.\n",
    "\n",
    "##### Intercept (const):\n",
    "\n",
    "The intercept is essentially 0 (-2.914e-16) and not statistically significant (p = 1.000), suggesting that when x1 = 0, the predicted value of y is also very close to 0, though the intercept itself does not meaningfully contribute to the model.\n",
    "\n",
    "##### Residual Diagnostics:\n",
    "\n",
    "Durbin-Watson = 2.196: This is very close to 2, indicating no significant autocorrelation in the residuals.\n",
    "\n",
    "Omnibus = 0.027, Prob(Omnibus) = 0.987 and Jarque-Bera = 0.150, Prob = 0.928: These values confirm that the residuals are normally distributed, which validates one of the key assumptions of linear regression.\n",
    "\n",
    "##### Multicollinearity:\n",
    "\n",
    "Condition Number = 1.00: Indicates no multicollinearity issues, as it’s very low (a value >30 might indicate multicollinearity problems)."
   ]
  },
  {
   "cell_type": "markdown",
   "id": "5c9af9de-4007-4385-8e8c-be88207d66a1",
   "metadata": {},
   "source": [
    "##### Conclusion:\n",
    "This is a well-fitting and statistically significant linear regression model. The predictor variable x1 has a strong and meaningful relationship with the dependent variable y. The assumptions of linear regression—linearity, independence, normality of residuals, and no multicollinearity—appear to be satisfied."
   ]
  },
  {
   "cell_type": "code",
   "execution_count": null,
   "id": "f6aa9886-885d-465f-a104-389814072908",
   "metadata": {},
   "outputs": [],
   "source": []
  }
 ],
 "metadata": {
  "kernelspec": {
   "display_name": "Python [conda env:base] *",
   "language": "python",
   "name": "conda-base-py"
  },
  "language_info": {
   "codemirror_mode": {
    "name": "ipython",
    "version": 3
   },
   "file_extension": ".py",
   "mimetype": "text/x-python",
   "name": "python",
   "nbconvert_exporter": "python",
   "pygments_lexer": "ipython3",
   "version": "3.11.7"
  }
 },
 "nbformat": 4,
 "nbformat_minor": 5
}
